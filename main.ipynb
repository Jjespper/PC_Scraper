{
 "cells": [
  {
   "cell_type": "code",
   "execution_count": null,
   "metadata": {},
   "outputs": [],
   "source": [
    "import pandas as pd\n",
    "from selenium import webdriver\n",
    "from selenium.webdriver.common.keys import Keys\n",
    "from selenium.webdriver.support.ui import WebDriverWait\n",
    "from selenium.webdriver.support import expected_conditions as EC\n",
    "from selenium.webdriver.common.by import By\n",
    "from selenium.common.exceptions import TimeoutException\n",
    "from selenium.webdriver.common.action_chains import ActionChains\n",
    "import time\n",
    "import random\n",
    "from sqlalchemy import create_engine\n",
    "from configparser import ConfigParser"
   ]
  },
  {
   "cell_type": "code",
   "execution_count": null,
   "metadata": {},
   "outputs": [],
   "source": [
    "def scrapping():\n",
    "    #[WIP] Ajustar las listas (all_articles y all_divs) para buscar distintos articulos dentro de un mismo tipo de articulos\n",
    "    #[WIP] No se recogen los procesadores!\n",
    "    driver = webdriver.Chrome()\n",
    "    \n",
    "    all_articles = ['placas-base', 'procesadores', 'discos-duros', 'discos-duros-ssd', 'tarjetas-graficas', \n",
    "             'memorias-ram', 'grabadoras-dvd-blu-ray', 'multilectores', 'tarjetas-sonido', 'torres', \n",
    "             'ventiladores', 'fuentes-alimentacion', 'modding', 'capturadoras', \n",
    "             'cables-internos-de-pc', 'conectividad']\n",
    "    \n",
    "    all_divs = ['Placas Base', 'Procesadores', 'Discos Duros', 'discos duros ssd', 'Tarjetas Gráficas', 'memorias ram', 'Grabadores DVD/Blu Ray', 'Multilectores', 'Tarjetas Sonido',\n",
    "                'Torres ATX', 'Barebones', 'Phanteks', 'Accesorios Torres', '', 'Refrigeración Líquida', 'Pasta térmica', 'Ventiladores CPU', 'Fuentes Alimentación', 'Modding', \n",
    "                'Capturadoras', 'Cables internos', 'Conectividad'] \n",
    "    \n",
    "    global articles_list, categories_list, prices_list, stock_list\n",
    "    articles_list = []\n",
    "    categories_list = []\n",
    "    prices_list = []\n",
    "    stock_list = []\n",
    "    \n",
    "    cnt = 0\n",
    "    for i in all_articles:\n",
    "        cnt +=1\n",
    "        print(i)\n",
    "        driver.get(url=\"https://www.pccomponentes.com/\"+i)\n",
    "        driver.maximize_window() \n",
    "        \n",
    "        while True:\n",
    "            try:\n",
    "                #Accept Cookies\n",
    "                WebDriverWait(driver, 20).until(EC.element_to_be_clickable((By.XPATH, \"//button[@class='btn btn-block btn-primary  btn-lg m-t-1 accept-cookie']\"))).click() \n",
    "                print(\"Cookies aceptadas\")\n",
    "                break\n",
    "            except TimeoutException:\n",
    "                break\n",
    "        \n",
    "        while True:\n",
    "            try:\n",
    "                #Accept Cookies\n",
    "                WebDriverWait(driver, 20).until(EC.element_to_be_clickable((By.XPATH, \"//button[@class='btn btn-secondary btn-block btn-lg btn-more']\"))).click() \n",
    "                print(\"Ver más...\")\n",
    "                break\n",
    "            except TimeoutException:\n",
    "                break\n",
    "                \n",
    "        last_height = driver.execute_script(\"return document.body.scrollHeight\")\n",
    "        \n",
    "        #Randoms mouse movements\n",
    "        action = ActionChains(driver)\n",
    "        \n",
    "        total_articles = driver.find_element_by_xpath(\"//strong[@id='totalArticles']\").text\n",
    "        total_articles = int(total_articles)\n",
    "        print(total_articles)\n",
    "        while True:\n",
    "            # Scroll down to bottom\n",
    "            driver.execute_script(\"window.scrollTo(0, document.body.scrollHeight);\")\n",
    "        \n",
    "            # Wait to load page\n",
    "            time.sleep(1.5)\n",
    "            \n",
    "        \n",
    "            action.move_by_offset(random.randint(0,10),random.randint(0,10));\n",
    "            action.perform();\n",
    "            time.sleep(0.1)\n",
    "            \n",
    "            #Scroll top\n",
    "            driver.execute_script(\"window.scrollTo(0, 0);\")\n",
    "                                  \n",
    "            # Wait to load page\n",
    "            time.sleep(1.5)\n",
    "        \n",
    "            # Calculate new scroll height and compare with last scroll height\n",
    "            new_height = driver.execute_script(\"return document.body.scrollHeight\")\n",
    "            if new_height == last_height:\n",
    "                # If heights are the same it will exit the function\n",
    "                break\n",
    "            last_height = new_height\n",
    "            \n",
    "        \n",
    "            \n",
    "        \n",
    "        div = driver.find_elements_by_xpath(\"//article[@data-category=\"+\"'\"+all_divs[cnt-1]+\"'\"+']')\n",
    "              \n",
    "        for i in div:\n",
    "            articles_list.append(i.get_attribute('data-name'))\n",
    "            categories_list.append(i.get_attribute('data-category'))\n",
    "            prices_list.append(i.get_attribute('data-price'))\n",
    "            stock_list.append(i.get_attribute('data-stock-web'))\n",
    "            \n",
    "            \n",
    "        if len(articles_list) == total_articles: #Check scrapped all the articles\n",
    "            print('¡Todos los articulos scrapeados!')\n",
    "            pass\n",
    "        else:\n",
    "            print('¡¡¡¡¡¡¡No se han recogido todos los articulos!!!!!!!')\n",
    "            scrapping()\n",
    "            \n",
    "        print('Numero total de articulos: '+str(total_articles))\n",
    "        \n",
    "    return articles_list, categories_list, prices_list, stock_list\n",
    "\n",
    "scrapping()"
   ]
  },
  {
   "cell_type": "code",
   "execution_count": null,
   "metadata": {},
   "outputs": [],
   "source": [
    "all_articles = ['placas-base', 'procesadores', 'discos-duros', 'discos-duros-ssd', 'tarjetas-graficas', \n",
    "             'memorias-ram', 'grabadoras-dvd-blu-ray', 'multilectores', 'tarjetas-sonido', 'torres', \n",
    "             'ventiladores', 'fuentes-alimentacion', 'modding', 'capturadoras', \n",
    "             'cables-internos-de-pc', 'conectividad']\n",
    "for i in all_articles:\n",
    "    print (i[1][0])"
   ]
  },
  {
   "cell_type": "code",
   "execution_count": null,
   "metadata": {},
   "outputs": [],
   "source": [
    "a = 'ASD'\n",
    "print(\"HOLA\"+'['+\"'\"+a+\"'\"+']')"
   ]
  },
  {
   "cell_type": "code",
   "execution_count": null,
   "metadata": {},
   "outputs": [],
   "source": [
    "lista = ['hola', 'mesa', 'adios']"
   ]
  },
  {
   "cell_type": "code",
   "execution_count": null,
   "metadata": {},
   "outputs": [],
   "source": [
    "for i in lista:\n",
    "    print(i)"
   ]
  },
  {
   "cell_type": "code",
   "execution_count": null,
   "metadata": {},
   "outputs": [],
   "source": []
  },
  {
   "cell_type": "code",
   "execution_count": null,
   "metadata": {},
   "outputs": [],
   "source": [
    "def convert_dataframe(articles_list, categories_list, prices_list, stock_list):\n",
    "    \n",
    "    global data\n",
    "    \n",
    "    data_tuples = list(zip(articles_list, categories_list, prices_list, stock_list))\n",
    "    data = pd.DataFrame(data_tuples, columns=['Articulo','Categoria', 'Precio', 'Stock'])\n",
    "    \n",
    "    \n",
    "    return data"
   ]
  },
  {
   "cell_type": "code",
   "execution_count": null,
   "metadata": {},
   "outputs": [],
   "source": [
    "convert_dataframe(articles_list, _categories_list, prices_list, stock_list)"
   ]
  },
  {
   "cell_type": "code",
   "execution_count": null,
   "metadata": {},
   "outputs": [],
   "source": [
    "config = ConfigParser()\n",
    "config.read('/home/jacobo/Config_Trash/database.ini')\n",
    "user = config['MYSQL']['user']\n",
    "password = config['MYSQL']['password']\n",
    "ip = config['MYSQL']['ip']\n",
    "port = config['MYSQL']['port']\n",
    "database = config['MYSQL']['database']"
   ]
  },
  {
   "cell_type": "code",
   "execution_count": null,
   "metadata": {},
   "outputs": [],
   "source": [
    "con = create_engine('mysql://'+user+':'+password+'@'+ip+':'+port+'/'+database)"
   ]
  },
  {
   "cell_type": "code",
   "execution_count": null,
   "metadata": {},
   "outputs": [],
   "source": [
    "data.to_sql(con=con, name='TABLA_DE_PRUEBA', if_exists='replace')"
   ]
  },
  {
   "cell_type": "code",
   "execution_count": null,
   "metadata": {},
   "outputs": [],
   "source": []
  }
 ],
 "metadata": {
  "kernelspec": {
   "display_name": "Python 3",
   "language": "python",
   "name": "python3"
  },
  "language_info": {
   "codemirror_mode": {
    "name": "ipython",
    "version": 3
   },
   "file_extension": ".py",
   "mimetype": "text/x-python",
   "name": "python",
   "nbconvert_exporter": "python",
   "pygments_lexer": "ipython3",
   "version": "3.7.7"
  }
 },
 "nbformat": 4,
 "nbformat_minor": 4
}

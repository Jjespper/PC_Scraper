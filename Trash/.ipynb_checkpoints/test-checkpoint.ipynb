{
 "cells": [
  {
   "cell_type": "code",
   "execution_count": 11,
   "metadata": {},
   "outputs": [],
   "source": [
    "# -*- coding: UTF-8 -*-\n",
    "import requests\n",
    "import json"
   ]
  },
  {
   "cell_type": "code",
   "execution_count": 19,
   "metadata": {},
   "outputs": [
    {
     "name": "stdin",
     "output_type": "stream",
     "text": [
      " zowie\n"
     ]
    }
   ],
   "source": [
    "request_headers = {\n",
    "    'accept': 'application/json',\n",
    "    'Accept-Encoding': 'gzip, deflate, br',\n",
    "    'Accept-Language': 'ca-ES,ca;q=0.9,es;q=0.8,en;q=0.7,gl;q=0.6,fr;q=0.5,la;q=0.4,da;q=0.3',\n",
    "    'Connection': 'keep-alive',\n",
    "    'Content-Length': '296',\n",
    "    'content-type': 'application/x-www-form-urlencoded',\n",
    "    'Host': 'bewoyx1cf1-dsn.algolia.net',\n",
    "    'Origin': 'https://www.pccomponentes.com',\n",
    "    'Referer': 'https://www.pccomponentes.com/',\n",
    "    'Sec-Fetch-Dest': 'empty',\n",
    "    'Sec-Fetch-Mode': 'cors',\n",
    "    'Sec-Fetch-Site': 'cross-site',\n",
    "    'User-Agent': 'Mozilla/5.0 (X11; Linux x86_64) AppleWebKit/537.36 (KHTML, like Gecko) Chrome/80.0.3987.149 Safari/537.36',\n",
    "}\n",
    "\n",
    "\n",
    "\n",
    "url = 'https://bewoyx1cf1-dsn.algolia.net/1/indexes/*/queries?x-algolia-agent=Algolia%20for%20vanilla%20JavaScript%20(lite)%203.32.0%3Binstantsearch.js%203.0.0%3BJS%20Helper%202.26.1&x-algolia-application-id=BEWOYX1CF1&x-algolia-api-key=47978d8b445ceaceb718dd842d434099&x-algolia-usertoken=anonymous-8d3af9c1-5065-4f84-81fd-3c271a5c3e7d'\n",
    "\n",
    "search = input()\n",
    "search = search.replace(' ', '%20')"
   ]
  },
  {
   "cell_type": "code",
   "execution_count": 20,
   "metadata": {},
   "outputs": [
    {
     "name": "stdout",
     "output_type": "stream",
     "text": [
      "Tan Tan Fan Coco Davez Bowie Funda para Huawei P20 Lite\n",
      "14.75\n"
     ]
    }
   ],
   "source": [
    "for n in range(10):\n",
    "\n",
    "    data = {\n",
    "        \"requests\": [{\n",
    "            \"indexName\":\"pccomponentes:es\",\n",
    "            \"params\":\"query=\"+search+\"&maxValuesPerFacet=20&page=\"+str(n+1)+\"&highlightPreTag=ais-highlight__&highlightPostTag=%2Fais-highlight__&clickAnalytics=true&enablePersonalization=true&facets=%5B%22price.amount%22%2C%22brand.name%22%2C%22family.name%22%5D&tagFilters=\",\n",
    "        }]\n",
    "    }\n",
    "\n",
    "    r = requests.post(url, data=json.dumps(data), headers=request_headers)\n",
    "    response = json.loads(r.content)\n",
    "    resultados = response['results'][0]['hits']\n",
    "\n",
    "    for resultado in resultados:\n",
    "        print(resultado['title'])\n",
    "        print(resultado['price']['amount'])"
   ]
  },
  {
   "cell_type": "code",
   "execution_count": 6,
   "metadata": {},
   "outputs": [
    {
     "name": "stdout",
     "output_type": "stream",
     "text": [
      "<Response [200]>\n"
     ]
    }
   ],
   "source": [
    "print(r)"
   ]
  },
  {
   "cell_type": "code",
   "execution_count": null,
   "metadata": {},
   "outputs": [],
   "source": []
  }
 ],
 "metadata": {
  "kernelspec": {
   "display_name": "Python 3",
   "language": "python",
   "name": "python3"
  },
  "language_info": {
   "codemirror_mode": {
    "name": "ipython",
    "version": 3
   },
   "file_extension": ".py",
   "mimetype": "text/x-python",
   "name": "python",
   "nbconvert_exporter": "python",
   "pygments_lexer": "ipython3",
   "version": "3.7.7"
  }
 },
 "nbformat": 4,
 "nbformat_minor": 4
}
